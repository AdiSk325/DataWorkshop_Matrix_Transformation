{
  "nbformat": 4,
  "nbformat_minor": 0,
  "metadata": {
    "colab": {
      "name": "day4.ipynb",
      "provenance": [],
      "collapsed_sections": [],
      "mount_file_id": "1nn5omUXGKhyBN_vgwdJHHv2unccu32tM",
      "authorship_tag": "ABX9TyM3ousqUy4cMRnQk7woecEg",
      "include_colab_link": true
    },
    "kernelspec": {
      "name": "python3",
      "display_name": "Python 3"
    },
    "accelerator": "GPU"
  },
  "cells": [
    {
      "cell_type": "markdown",
      "metadata": {
        "id": "view-in-github",
        "colab_type": "text"
      },
      "source": [
        "<a href=\"https://colab.research.google.com/github/AdiSk325/dw_matrix_road_sign/blob/master/day4.ipynb\" target=\"_parent\"><img src=\"https://colab.research.google.com/assets/colab-badge.svg\" alt=\"Open In Colab\"/></a>"
      ]
    },
    {
      "cell_type": "code",
      "metadata": {
        "id": "MgddT1b74IKE",
        "colab_type": "code",
        "colab": {}
      },
      "source": [
        "import pandas as pd\n",
        "import numpy as np \n",
        "import os\n",
        "import datetime\n",
        "\n",
        "import tensorflow as tf\n",
        "from tensorflow.keras.models import Sequential\n",
        "from tensorflow.keras.layers import Conv2D, MaxPool2D, Dense, Flatten, Dropout\n",
        "from tensorflow.keras.utils import to_categorical\n",
        "\n",
        "%load_ext tensorboard\n",
        "\n",
        "import matplotlib.pyplot as plt\n",
        "from skimage import color, exposure\n",
        "from sklearn.metrics import accuracy_score"
      ],
      "execution_count": 0,
      "outputs": []
    },
    {
      "cell_type": "code",
      "metadata": {
        "id": "SM31EAS_4NZ9",
        "colab_type": "code",
        "outputId": "459a275d-4191-48d2-8a2d-41c4910387af",
        "colab": {
          "base_uri": "https://localhost:8080/",
          "height": 34
        }
      },
      "source": [
        "cd '/content/drive/My Drive/Colab Notebooks/dw_matrix/matrix_three/dw_matrix_road_sign'"
      ],
      "execution_count": 4,
      "outputs": [
        {
          "output_type": "stream",
          "text": [
            "/content/drive/My Drive/Colab Notebooks/dw_matrix/matrix_three/dw_matrix_road_sign\n"
          ],
          "name": "stdout"
        }
      ]
    },
    {
      "cell_type": "code",
      "metadata": {
        "id": "oEzgF2Om4PlW",
        "colab_type": "code",
        "outputId": "5a936c5f-b6a2-475d-a67b-ba123d7be207",
        "colab": {
          "base_uri": "https://localhost:8080/",
          "height": 34
        }
      },
      "source": [
        "train, test = pd.read_pickle('data/train.p'), pd.read_pickle('data/test.p')\n",
        "X_train, y_train = train['features'], train['labels']\n",
        "X_test, y_test = test['features'], test['labels']\n",
        "X_train.shape, y_train.shape"
      ],
      "execution_count": 5,
      "outputs": [
        {
          "output_type": "execute_result",
          "data": {
            "text/plain": [
              "((34799, 32, 32, 3), (34799,))"
            ]
          },
          "metadata": {
            "tags": []
          },
          "execution_count": 5
        }
      ]
    },
    {
      "cell_type": "code",
      "metadata": {
        "id": "MQTQrhWv4SJF",
        "colab_type": "code",
        "colab": {}
      },
      "source": [
        "if y_train.ndim == 1: y_train = to_categorical(y_train)\n",
        "if y_test.ndim == 1: y_test = to_categorical(y_test)"
      ],
      "execution_count": 0,
      "outputs": []
    },
    {
      "cell_type": "code",
      "metadata": {
        "id": "N8_kqDGv4gSd",
        "colab_type": "code",
        "colab": {}
      },
      "source": [
        "input_shape = X_train.shape[1:]\n",
        "num_classes = y_train.shape[1]"
      ],
      "execution_count": 0,
      "outputs": []
    },
    {
      "cell_type": "code",
      "metadata": {
        "id": "HDojCrUB4iZE",
        "colab_type": "code",
        "colab": {}
      },
      "source": [
        "def get_cnn_v1(input_shape, num_classes):\n",
        "  return Sequential([\n",
        "   Conv2D(filters=64, kernel_size=(3, 3), activation='relu', input_shape=input_shape),                \n",
        "\n",
        "  Flatten(),\n",
        "\n",
        "\n",
        "   Dense(num_classes, activation='softmax'),\n",
        "])\n",
        "  \n",
        "def get_cnn_v2(input_shape, num_classes):\n",
        "  return Sequential([\n",
        "   Conv2D(filters=64, kernel_size=(3, 3), activation='relu', input_shape=input_shape),                \n",
        "   MaxPool2D(),\n",
        "   Dropout(0.5),\n",
        "\n",
        "   Conv2D(filters=32, kernel_size=(3, 3), activation='relu'),                \n",
        "   MaxPool2D(),\n",
        "   Dropout(0.3),\n",
        "\n",
        "   Flatten(),\n",
        "\n",
        "   Dense (1024, activation='relu'),\n",
        "   Dropout(0.5),\n",
        "   Dense(num_classes, activation='softmax'),\n",
        "])\n",
        "  \n",
        "def train_model(model, X_train, y_train, params_fit=None):\n",
        "\n",
        "  if params_fit is None:\n",
        "    params_fit = {}\n",
        "\n",
        "  model.compile(loss='categorical_crossentropy', optimizer='Adam', metrics=['accuracy'])\n",
        "  \n",
        "  logdir = os.path.join(\"logs\", datetime.datetime.now().strftime(\"%Y%m%d-%H%M%S\"))\n",
        "  tensorboard_callback = tf.keras.callbacks.TensorBoard(logdir, histogram_freq=1)\n",
        "  \n",
        "  model.fit(\n",
        "      X_train,\n",
        "      y_train,\n",
        "      batch_size = params_fit.get('batch_size', 128),\n",
        "      epochs = params_fit.get('epochs', 5),\n",
        "      verbose=params_fit.get('verbose',1),\n",
        "      validation_data = params_fit.get('validation_data', (X_train, y_train)),\n",
        "      callbacks= [tensorboard_callback]\n",
        "      )\n",
        "  return model\n",
        "\n",
        "def trained_and_predict(model):\n",
        "\n",
        "  model_trained = train_model(model, X_train, y_train)\n",
        "  return predict(model_trained, X_test, y_test)"
      ],
      "execution_count": 0,
      "outputs": []
    },
    {
      "cell_type": "code",
      "metadata": {
        "id": "By4uQ2G24vHg",
        "colab_type": "code",
        "outputId": "d86bc487-9bcf-4c31-cf43-3148ee55c63b",
        "colab": {
          "base_uri": "https://localhost:8080/",
          "height": 187
        }
      },
      "source": [
        "model = get_cnn_v1(input_shape, num_classes)\n",
        "model_trained = train_model(model, X_train, y_train)"
      ],
      "execution_count": 9,
      "outputs": [
        {
          "output_type": "stream",
          "text": [
            "Epoch 1/5\n",
            "272/272 [==============================] - 3s 10ms/step - loss: 45.0800 - accuracy: 0.7240 - val_loss: 0.2557 - val_accuracy: 0.9398\n",
            "Epoch 2/5\n",
            "272/272 [==============================] - 2s 9ms/step - loss: 0.2214 - accuracy: 0.9503 - val_loss: 0.1373 - val_accuracy: 0.9693\n",
            "Epoch 3/5\n",
            "272/272 [==============================] - 3s 9ms/step - loss: 0.1326 - accuracy: 0.9695 - val_loss: 0.0832 - val_accuracy: 0.9814\n",
            "Epoch 4/5\n",
            "272/272 [==============================] - 2s 9ms/step - loss: 0.1301 - accuracy: 0.9719 - val_loss: 0.2157 - val_accuracy: 0.9504\n",
            "Epoch 5/5\n",
            "272/272 [==============================] - 2s 9ms/step - loss: 0.1400 - accuracy: 0.9713 - val_loss: 0.1198 - val_accuracy: 0.9745\n"
          ],
          "name": "stdout"
        }
      ]
    },
    {
      "cell_type": "code",
      "metadata": {
        "id": "G9PzMLjp41aw",
        "colab_type": "code",
        "colab": {}
      },
      "source": [
        "def predict(model_trained, X_test, y_test, scoring=accuracy_score):\n",
        "  \n",
        "  y_test_norm = np.argmax(y_test, axis=1)\n",
        "\n",
        "  y_pred_prob = model_trained.predict(X_test)\n",
        "  y_pred = np.argmax(y_pred_prob, axis=1)\n",
        "\n",
        "  return scoring(y_test_norm, y_pred)"
      ],
      "execution_count": 0,
      "outputs": []
    },
    {
      "cell_type": "code",
      "metadata": {
        "id": "o8eO_PN_77h8",
        "colab_type": "code",
        "outputId": "35ae3034-f4b6-494c-8b2b-a1f2cc9e26be",
        "colab": {
          "base_uri": "https://localhost:8080/",
          "height": 34
        }
      },
      "source": [
        "predict(model_trained, X_test, y_test)"
      ],
      "execution_count": 11,
      "outputs": [
        {
          "output_type": "execute_result",
          "data": {
            "text/plain": [
              "0.8151927437641724"
            ]
          },
          "metadata": {
            "tags": []
          },
          "execution_count": 11
        }
      ]
    },
    {
      "cell_type": "code",
      "metadata": {
        "id": "1hRS9Q5b6YZy",
        "colab_type": "code",
        "outputId": "79375735-edb8-424a-8b3b-e595146478bc",
        "colab": {
          "base_uri": "https://localhost:8080/",
          "height": 204
        }
      },
      "source": [
        "def get_cnn_v2(input_shape, num_classes):\n",
        "  return Sequential([\n",
        "  Conv2D(filters=32, kernel_size=(3, 3), activation='relu', input_shape=input_shape),                \n",
        "   MaxPool2D(),\n",
        "   Dropout(0.3),\n",
        "\n",
        "   Conv2D(filters=64, kernel_size=(3, 3), activation='relu'),                \n",
        "   MaxPool2D(),\n",
        "   Dropout(0.3),\n",
        "\n",
        "   Flatten(),\n",
        "\n",
        "   Dense (1024, activation='relu'),\n",
        "   Dropout(0.3),\n",
        "\n",
        "   Dense(num_classes, activation='softmax'),\n",
        "])\n",
        "  \n",
        "trained_and_predict(get_cnn_v2(input_shape, num_classes))"
      ],
      "execution_count": 12,
      "outputs": [
        {
          "output_type": "stream",
          "text": [
            "Epoch 1/5\n",
            "272/272 [==============================] - 3s 10ms/step - loss: 5.9229 - accuracy: 0.2203 - val_loss: 1.8373 - val_accuracy: 0.4952\n",
            "Epoch 2/5\n",
            "272/272 [==============================] - 3s 9ms/step - loss: 1.4009 - accuracy: 0.5808 - val_loss: 0.5559 - val_accuracy: 0.8615\n",
            "Epoch 3/5\n",
            "272/272 [==============================] - 3s 9ms/step - loss: 0.7341 - accuracy: 0.7776 - val_loss: 0.3033 - val_accuracy: 0.9346\n",
            "Epoch 4/5\n",
            "272/272 [==============================] - 3s 9ms/step - loss: 0.4986 - accuracy: 0.8488 - val_loss: 0.1734 - val_accuracy: 0.9482\n",
            "Epoch 5/5\n",
            "272/272 [==============================] - 2s 9ms/step - loss: 0.3562 - accuracy: 0.8905 - val_loss: 0.0923 - val_accuracy: 0.9819\n"
          ],
          "name": "stdout"
        },
        {
          "output_type": "execute_result",
          "data": {
            "text/plain": [
              "0.9004535147392291"
            ]
          },
          "metadata": {
            "tags": []
          },
          "execution_count": 12
        }
      ]
    },
    {
      "cell_type": "code",
      "metadata": {
        "id": "xYNgtAFVAs6j",
        "colab_type": "code",
        "outputId": "7d8b2c8e-cc00-4fa4-d378-d0a101b8591d",
        "colab": {
          "base_uri": "https://localhost:8080/",
          "height": 204
        }
      },
      "source": [
        "def get_cnn_v3(input_shape, num_classes):\n",
        "  return Sequential([\n",
        "   Conv2D(filters=32, kernel_size=(3, 3), activation='relu', input_shape=input_shape),  \n",
        "   Conv2D(filters=32, kernel_size=(3, 3), activation='relu'),              \n",
        "   MaxPool2D(),\n",
        "   Dropout(0.3),\n",
        "\n",
        "   Conv2D(filters=64, kernel_size=(3, 3), activation='relu'), \n",
        "   Conv2D(filters=64, kernel_size=(3, 3), activation='relu'),                \n",
        "   MaxPool2D(),\n",
        "   Dropout(0.3),\n",
        "\n",
        "   Flatten(),\n",
        "\n",
        "   Dense (1024, activation='relu'),\n",
        "   Dropout(0.3),\n",
        "\n",
        "   Dense(num_classes, activation='softmax'),\n",
        "])\n",
        "  \n",
        "trained_and_predict(get_cnn_v3(input_shape, num_classes))"
      ],
      "execution_count": 13,
      "outputs": [
        {
          "output_type": "stream",
          "text": [
            "Epoch 1/5\n",
            "272/272 [==============================] - 3s 13ms/step - loss: 2.2189 - accuracy: 0.5581 - val_loss: 0.3338 - val_accuracy: 0.9178\n",
            "Epoch 2/5\n",
            "272/272 [==============================] - 3s 12ms/step - loss: 0.5009 - accuracy: 0.8512 - val_loss: 0.1326 - val_accuracy: 0.9684\n",
            "Epoch 3/5\n",
            "272/272 [==============================] - 3s 12ms/step - loss: 0.2954 - accuracy: 0.9126 - val_loss: 0.0686 - val_accuracy: 0.9820\n",
            "Epoch 4/5\n",
            "272/272 [==============================] - 3s 12ms/step - loss: 0.2132 - accuracy: 0.9371 - val_loss: 0.0493 - val_accuracy: 0.9899\n",
            "Epoch 5/5\n",
            "272/272 [==============================] - 3s 12ms/step - loss: 0.1599 - accuracy: 0.9534 - val_loss: 0.0309 - val_accuracy: 0.9924\n"
          ],
          "name": "stdout"
        },
        {
          "output_type": "execute_result",
          "data": {
            "text/plain": [
              "0.9582766439909297"
            ]
          },
          "metadata": {
            "tags": []
          },
          "execution_count": 13
        }
      ]
    },
    {
      "cell_type": "code",
      "metadata": {
        "id": "M1Kgi6vaBEkk",
        "colab_type": "code",
        "outputId": "f449e2bd-3007-4b3e-ff04-a58a375f14ac",
        "colab": {
          "base_uri": "https://localhost:8080/",
          "height": 850
        }
      },
      "source": [
        "def get_cnn_v4(input_shape, num_classes):\n",
        "  return Sequential([\n",
        "   Conv2D(filters=32, kernel_size=(3, 3), activation='relu', input_shape=input_shape),  \n",
        "   Conv2D(filters=32, kernel_size=(3, 3), activation='relu'),              \n",
        "   MaxPool2D(),\n",
        "   Dropout(0.3),\n",
        "\n",
        "   Conv2D(filters=64, kernel_size=(3, 3), activation='relu', padding='same'), \n",
        "   Conv2D(filters=64, kernel_size=(3, 3), activation='relu'),                \n",
        "   MaxPool2D(),\n",
        "   Dropout(0.3),\n",
        "\n",
        "   Conv2D(filters=64, kernel_size=(3, 3), activation='relu', padding='same'), \n",
        "   Conv2D(filters=64, kernel_size=(3, 3), activation='relu'),                \n",
        "   #MaxPool2D(),\n",
        "   Dropout(0.3),\n",
        "\n",
        "   Flatten(),\n",
        "\n",
        "   Dense (1024, activation='relu'),\n",
        "   Dropout(0.3),\n",
        "\n",
        "   Dense(num_classes, activation='softmax'),\n",
        "])\n",
        "\n",
        "get_cnn_v4(input_shape, num_classes).summary()\n",
        "\n",
        "#break on Youtube 22:48 --> https://www.youtube.com/watch?v=R5neBdYOnBk\n",
        "trained_and_predict(get_cnn_v4(input_shape, num_classes))"
      ],
      "execution_count": 15,
      "outputs": [
        {
          "output_type": "stream",
          "text": [
            "Model: \"sequential_4\"\n",
            "_________________________________________________________________\n",
            "Layer (type)                 Output Shape              Param #   \n",
            "=================================================================\n",
            "conv2d_13 (Conv2D)           (None, 30, 30, 32)        896       \n",
            "_________________________________________________________________\n",
            "conv2d_14 (Conv2D)           (None, 28, 28, 32)        9248      \n",
            "_________________________________________________________________\n",
            "max_pooling2d_6 (MaxPooling2 (None, 14, 14, 32)        0         \n",
            "_________________________________________________________________\n",
            "dropout_10 (Dropout)         (None, 14, 14, 32)        0         \n",
            "_________________________________________________________________\n",
            "conv2d_15 (Conv2D)           (None, 14, 14, 64)        18496     \n",
            "_________________________________________________________________\n",
            "conv2d_16 (Conv2D)           (None, 12, 12, 64)        36928     \n",
            "_________________________________________________________________\n",
            "max_pooling2d_7 (MaxPooling2 (None, 6, 6, 64)          0         \n",
            "_________________________________________________________________\n",
            "dropout_11 (Dropout)         (None, 6, 6, 64)          0         \n",
            "_________________________________________________________________\n",
            "conv2d_17 (Conv2D)           (None, 6, 6, 64)          36928     \n",
            "_________________________________________________________________\n",
            "conv2d_18 (Conv2D)           (None, 4, 4, 64)          36928     \n",
            "_________________________________________________________________\n",
            "dropout_12 (Dropout)         (None, 4, 4, 64)          0         \n",
            "_________________________________________________________________\n",
            "flatten_4 (Flatten)          (None, 1024)              0         \n",
            "_________________________________________________________________\n",
            "dense_7 (Dense)              (None, 1024)              1049600   \n",
            "_________________________________________________________________\n",
            "dropout_13 (Dropout)         (None, 1024)              0         \n",
            "_________________________________________________________________\n",
            "dense_8 (Dense)              (None, 43)                44075     \n",
            "=================================================================\n",
            "Total params: 1,233,099\n",
            "Trainable params: 1,233,099\n",
            "Non-trainable params: 0\n",
            "_________________________________________________________________\n",
            "Epoch 1/5\n",
            "272/272 [==============================] - 4s 13ms/step - loss: 2.2071 - accuracy: 0.4452 - val_loss: 0.4127 - val_accuracy: 0.8792\n",
            "Epoch 2/5\n",
            "272/272 [==============================] - 3s 12ms/step - loss: 0.5107 - accuracy: 0.8475 - val_loss: 0.1121 - val_accuracy: 0.9702\n",
            "Epoch 3/5\n",
            "272/272 [==============================] - 3s 12ms/step - loss: 0.2607 - accuracy: 0.9218 - val_loss: 0.0586 - val_accuracy: 0.9829\n",
            "Epoch 4/5\n",
            "272/272 [==============================] - 3s 12ms/step - loss: 0.1787 - accuracy: 0.9454 - val_loss: 0.0403 - val_accuracy: 0.9884\n",
            "Epoch 5/5\n",
            "272/272 [==============================] - 3s 12ms/step - loss: 0.1401 - accuracy: 0.9581 - val_loss: 0.0253 - val_accuracy: 0.9938\n"
          ],
          "name": "stdout"
        },
        {
          "output_type": "execute_result",
          "data": {
            "text/plain": [
              "0.9657596371882086"
            ]
          },
          "metadata": {
            "tags": []
          },
          "execution_count": 15
        }
      ]
    },
    {
      "cell_type": "code",
      "metadata": {
        "id": "qKbxvi5r-cCA",
        "colab_type": "code",
        "colab": {
          "base_uri": "https://localhost:8080/",
          "height": 850
        },
        "outputId": "e2ea84b6-a36b-437e-dd81-1a78a8b339df"
      },
      "source": [
        "def get_cnn_v5(input_shape, num_classes):\n",
        "  return Sequential([\n",
        "   Conv2D(filters=32, kernel_size=(3, 3), activation='relu', input_shape=input_shape),  \n",
        "   Conv2D(filters=32, kernel_size=(3, 3), activation='relu'),              \n",
        "   MaxPool2D(),\n",
        "   Dropout(0.3),\n",
        "\n",
        "   Conv2D(filters=64, kernel_size=(3, 3), activation='relu', padding='same'), \n",
        "   Conv2D(filters=64, kernel_size=(3, 3), activation='relu'),                \n",
        "   MaxPool2D(),\n",
        "   Dropout(0.3),\n",
        "\n",
        "   Conv2D(filters=64, kernel_size=(3, 3), activation='relu', padding='same'), \n",
        "   Conv2D(filters=64, kernel_size=(3, 3), activation='relu'),                \n",
        "   #MaxPool2D(),\n",
        "   Dropout(0.3),\n",
        "\n",
        "   Flatten(),\n",
        "\n",
        "   Dense (1024, activation='relu'),\n",
        "   Dropout(0.3),\n",
        "\n",
        "   Dense (1024, activation='relu'),\n",
        "   Dropout(0.3),\n",
        "\n",
        "   Dense(num_classes, activation='softmax'),\n",
        "])\n",
        "\n",
        "get_cnn_v4(input_shape, num_classes).summary()\n",
        "\n",
        "#break on Youtube 22:48 --> https://www.youtube.com/watch?v=R5neBdYOnBk\n",
        "trained_and_predict(get_cnn_v5(input_shape, num_classes))"
      ],
      "execution_count": 17,
      "outputs": [
        {
          "output_type": "stream",
          "text": [
            "Model: \"sequential_8\"\n",
            "_________________________________________________________________\n",
            "Layer (type)                 Output Shape              Param #   \n",
            "=================================================================\n",
            "conv2d_37 (Conv2D)           (None, 30, 30, 32)        896       \n",
            "_________________________________________________________________\n",
            "conv2d_38 (Conv2D)           (None, 28, 28, 32)        9248      \n",
            "_________________________________________________________________\n",
            "max_pooling2d_14 (MaxPooling (None, 14, 14, 32)        0         \n",
            "_________________________________________________________________\n",
            "dropout_27 (Dropout)         (None, 14, 14, 32)        0         \n",
            "_________________________________________________________________\n",
            "conv2d_39 (Conv2D)           (None, 14, 14, 64)        18496     \n",
            "_________________________________________________________________\n",
            "conv2d_40 (Conv2D)           (None, 12, 12, 64)        36928     \n",
            "_________________________________________________________________\n",
            "max_pooling2d_15 (MaxPooling (None, 6, 6, 64)          0         \n",
            "_________________________________________________________________\n",
            "dropout_28 (Dropout)         (None, 6, 6, 64)          0         \n",
            "_________________________________________________________________\n",
            "conv2d_41 (Conv2D)           (None, 6, 6, 64)          36928     \n",
            "_________________________________________________________________\n",
            "conv2d_42 (Conv2D)           (None, 4, 4, 64)          36928     \n",
            "_________________________________________________________________\n",
            "dropout_29 (Dropout)         (None, 4, 4, 64)          0         \n",
            "_________________________________________________________________\n",
            "flatten_8 (Flatten)          (None, 1024)              0         \n",
            "_________________________________________________________________\n",
            "dense_16 (Dense)             (None, 1024)              1049600   \n",
            "_________________________________________________________________\n",
            "dropout_30 (Dropout)         (None, 1024)              0         \n",
            "_________________________________________________________________\n",
            "dense_17 (Dense)             (None, 43)                44075     \n",
            "=================================================================\n",
            "Total params: 1,233,099\n",
            "Trainable params: 1,233,099\n",
            "Non-trainable params: 0\n",
            "_________________________________________________________________\n",
            "Epoch 1/5\n",
            "272/272 [==============================] - 4s 14ms/step - loss: 2.3473 - accuracy: 0.3829 - val_loss: 0.5086 - val_accuracy: 0.8539\n",
            "Epoch 2/5\n",
            "272/272 [==============================] - 4s 13ms/step - loss: 0.5770 - accuracy: 0.8261 - val_loss: 0.1384 - val_accuracy: 0.9588\n",
            "Epoch 3/5\n",
            "272/272 [==============================] - 4s 13ms/step - loss: 0.3012 - accuracy: 0.9072 - val_loss: 0.0683 - val_accuracy: 0.9815\n",
            "Epoch 4/5\n",
            "272/272 [==============================] - 4s 13ms/step - loss: 0.2025 - accuracy: 0.9374 - val_loss: 0.0435 - val_accuracy: 0.9862\n",
            "Epoch 5/5\n",
            "272/272 [==============================] - 4s 13ms/step - loss: 0.1684 - accuracy: 0.9494 - val_loss: 0.0311 - val_accuracy: 0.9915\n"
          ],
          "name": "stdout"
        },
        {
          "output_type": "execute_result",
          "data": {
            "text/plain": [
              "0.9700680272108844"
            ]
          },
          "metadata": {
            "tags": []
          },
          "execution_count": 17
        }
      ]
    },
    {
      "cell_type": "code",
      "metadata": {
        "id": "i_Py5S8O-xWW",
        "colab_type": "code",
        "colab": {}
      },
      "source": [
        "X_train_grey = color.rgb2gray(X_train).reshape(-1,32,32,1)\n",
        "X_test_grey = color.rgb2gray(X_test).reshape(-1,32,32,1)\n",
        "gray_input_shape = X_train_grey.shape[1:]"
      ],
      "execution_count": 0,
      "outputs": []
    },
    {
      "cell_type": "code",
      "metadata": {
        "id": "n3frEmDi_WUJ",
        "colab_type": "code",
        "colab": {
          "base_uri": "https://localhost:8080/",
          "height": 204
        },
        "outputId": "701350f8-9383-449f-9a12-c38c187aa766"
      },
      "source": [
        "model = get_cnn_v5(gray_input_shape, num_classes)\n",
        "model_trained = train_model(model, X_train_grey, y_train)\n",
        "predict(model_trained, X_test_grey, y_test)"
      ],
      "execution_count": 33,
      "outputs": [
        {
          "output_type": "stream",
          "text": [
            "Epoch 1/5\n",
            "272/272 [==============================] - 4s 14ms/step - loss: 2.1924 - accuracy: 0.3868 - val_loss: 0.3627 - val_accuracy: 0.8912\n",
            "Epoch 2/5\n",
            "272/272 [==============================] - 4s 13ms/step - loss: 0.3320 - accuracy: 0.8956 - val_loss: 0.0839 - val_accuracy: 0.9778\n",
            "Epoch 3/5\n",
            "272/272 [==============================] - 4s 13ms/step - loss: 0.1671 - accuracy: 0.9472 - val_loss: 0.0532 - val_accuracy: 0.9861\n",
            "Epoch 4/5\n",
            "272/272 [==============================] - 4s 13ms/step - loss: 0.1152 - accuracy: 0.9649 - val_loss: 0.0239 - val_accuracy: 0.9931\n",
            "Epoch 5/5\n",
            "272/272 [==============================] - 4s 13ms/step - loss: 0.0904 - accuracy: 0.9719 - val_loss: 0.0177 - val_accuracy: 0.9952\n"
          ],
          "name": "stdout"
        },
        {
          "output_type": "execute_result",
          "data": {
            "text/plain": [
              "0.9770975056689343"
            ]
          },
          "metadata": {
            "tags": []
          },
          "execution_count": 33
        }
      ]
    },
    {
      "cell_type": "code",
      "metadata": {
        "id": "5DBIlDLQ-5z6",
        "colab_type": "code",
        "colab": {
          "base_uri": "https://localhost:8080/",
          "height": 266
        },
        "outputId": "253ad511-5190-4d4f-97fb-5cd863123dfb"
      },
      "source": [
        "plt.imshow(color.rgb2gray(X_train[0]), cmap=plt.get_cmap('gray'));"
      ],
      "execution_count": 34,
      "outputs": [
        {
          "output_type": "display_data",
          "data": {
            "image/png": "[encoded data removed]",
            "text/plain": [
              "<Figure size 432x288 with 1 Axes>"
            ]
          },
          "metadata": {
            "tags": []
          }
        }
      ]
    },
    {
      "cell_type": "code",
      "metadata": {
        "id": "SqqpILwXAzUv",
        "colab_type": "code",
        "colab": {}
      },
      "source": [
        "def preproc_img(img):\n",
        "  hsv = color.rgb2hsv(img)\n",
        "  hsv[:,:,2] = exposure.equalize_adapthist(hsv[:,:,2])\n",
        "  img = color.hsv2rgb(hsv)\n",
        "\n",
        "  return img"
      ],
      "execution_count": 0,
      "outputs": []
    },
    {
      "cell_type": "code",
      "metadata": {
        "id": "Vx73fH0JBH2J",
        "colab_type": "code",
        "colab": {
          "base_uri": "https://localhost:8080/",
          "height": 283
        },
        "outputId": "3768519d-57d1-43ea-f458-25bff6a60f88"
      },
      "source": [
        "plt.imshow(preproc_img(X_test[400]))"
      ],
      "execution_count": 43,
      "outputs": [
        {
          "output_type": "execute_result",
          "data": {
            "text/plain": [
              "<matplotlib.image.AxesImage at 0x7f0e7778d908>"
            ]
          },
          "metadata": {
            "tags": []
          },
          "execution_count": 43
        },
        {
          "output_type": "display_data",
          "data": {
            "image/png": "[encoded data removed]",
            "text/plain": [
              "<Figure size 432x288 with 1 Axes>"
            ]
          },
          "metadata": {
            "tags": []
          }
        }
      ]
    },
    {
      "cell_type": "code",
      "metadata": {
        "id": "LzQjA3gv5uDr",
        "colab_type": "code",
        "colab": {}
      },
      "source": [
        "signs_labels = pd.read_csv('data/signnames.csv').to_dict()['b']"
      ],
      "execution_count": 0,
      "outputs": []
    },
    {
      "cell_type": "code",
      "metadata": {
        "id": "tHOyuvSq6RgA",
        "colab_type": "code",
        "outputId": "dcf885a3-135c-44a1-d11b-7d1ccb687e5a",
        "colab": {
          "base_uri": "https://localhost:8080/",
          "height": 34
        }
      },
      "source": [
        "signs_labels[np.argmax(y_pred_prob[400])]"
      ],
      "execution_count": 0,
      "outputs": [
        {
          "output_type": "execute_result",
          "data": {
            "text/plain": [
              "'Speed limit (30km/h)'"
            ]
          },
          "metadata": {
            "tags": []
          },
          "execution_count": 22
        }
      ]
    },
    {
      "cell_type": "code",
      "metadata": {
        "id": "xveeFtsN6TcC",
        "colab_type": "code",
        "colab": {}
      },
      "source": [
        ""
      ],
      "execution_count": 0,
      "outputs": []
    }
  ]
}